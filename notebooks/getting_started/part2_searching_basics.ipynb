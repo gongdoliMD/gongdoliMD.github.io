{
  "cells": [
    {
      "cell_type": "markdown",
      "metadata": {
        "id": "view-in-github",
        "colab_type": "text"
      },
      "source": [
        "<a href=\"https://colab.research.google.com/github/gongdoliMD/gongdoliMD.github.io/blob/master/notebooks/getting_started/part2_searching_basics.ipynb\" target=\"_parent\"><img src=\"https://colab.research.google.com/assets/colab-badge.svg\" alt=\"Open In Colab\"/></a>"
      ]
    },
    {
      "cell_type": "markdown",
      "metadata": {
        "id": "KmXfYFZtja2F"
      },
      "source": [
        "# Getting started with IDC - Part 2: Basics of searching IDC data\n",
        "\n",
        "---\n",
        "\n",
        "\n",
        "## Summary\n",
        "\n",
        "This notebook is part of [the \"Getting started with IDC\" notebook series](https://github.com/ImagingDataCommons/IDC-Examples/blob/master/notebooks/getting_started) introducing NCI Imaging Data Commons to the users who want to interact with IDC programmatically.\n",
        "\n",
        "In [Part 1](https://github.com/ImagingDataCommons/IDC-Examples/blob/master/notebooks/getting_started/part1_prerequisites.ipynb) of this tutorial series, you learned how to complete the prerequisites that are required to be able to search IDC data using GCP BigQuery.\n",
        "\n",
        "In this notebook you will be introduced into how IDC organizes the metadata accompanying images available in IDC, and how that metadata can be used to define subsets of data.\n",
        "\n",
        "---\n",
        "Initial version: Nov 2022\n",
        "\n",
        "Updated: \n"
      ]
    },
    {
      "cell_type": "markdown",
      "metadata": {
        "id": "-z3XVLAgArvo"
      },
      "source": [
        "## What is IDC?\n",
        "\n",
        "NCI Imaging Data Commons (IDC) is a cloud-based repository of publicly available cancer imaging data co-located with the analysis and exploration tools and resources. IDC is a node within the broader NCI Cancer Research Data Commons (CRDC) infrastructure that provides secure access to a large, comprehensive, and expanding collection of cancer research data."
      ]
    },
    {
      "cell_type": "markdown",
      "metadata": {
        "id": "a4Q-kRDW77Iy"
      },
      "source": [
        "## Prerequisites\n",
        "\n",
        "It is assumed that you completed tutorial 1 in the series. You will need to have a Google identity, Google Cloud activated for that account, and the ID of the project created under that account.\n",
        "\n",
        "Before doing **anything** you **must**  authorize Colab Runtime to act on your behalf, and initialize the variable pointing to your Google Cloud project ID.\n",
        "\n",
        "The following cell initializes project ID that is needed for all operations with the cloud. You should have project ID if you completed the [first tutorial](https://github.com/ImagingDataCommons/IDC-Examples/blob/master/notebooks/getting_started/part1_prerequisites.ipynb) in this series."
      ]
    },
    {
      "cell_type": "code",
      "execution_count": null,
      "metadata": {
        "id": "bDGChJBK9ooq"
      },
      "outputs": [],
      "source": [
        "# initialize this variable with your Google Cloud Project ID!\n",
        "my_ProjectID = \"REPLACE_ME_WITH_YOUR_PROJECT_ID\"\n",
        "\n",
        "import os\n",
        "os.environ[\"GCP_PROJECT_ID\"] = my_ProjectID\n",
        "\n",
        "from google.colab import auth\n",
        "auth.authenticate_user()"
      ]
    },
    {
      "cell_type": "markdown",
      "metadata": {
        "id": "zrbT7voq7yU5"
      },
      "source": [
        "## Why do I need to search?\n",
        "\n",
        "Think of IDC as a library. Image files are books, and we have ~45 TB of those. When you go to a library, you want to check out just the books that you want to read. In order to find a book in a large library you need a catalog. \n",
        "\n",
        "Just as in the library, IDC maintains a catalog that indexes a variety of metadata fields describing the files we curate. That metadata catalog is accessible in a large database table that you should be using to search and subset the images. Each row in that table corresponds to a file, and includes the location of the file alongside the metadata attributes describing that file.\n"
      ]
    },
    {
      "cell_type": "markdown",
      "metadata": {
        "id": "kZMMjky1898-"
      },
      "source": [
        "## How do I search?\n",
        "\n",
        "When you search, or _query_ IDC catalog, you specify what criteria should the metadata describing the selected files satisfy. \n",
        "\n",
        "Queries can be as simple as \n",
        "\n",
        "* \"_everything in collection X_\", \n",
        "\n",
        "or as complex as \n",
        "\n",
        "* \"_files corresponding to CT images of female patients that are accompanied by annotations of lung tumors that are larger than 1500 mm^3 in volume_\".\n",
        "\n",
        "Although it would be very nice to just state what you need in free form, in practice queries need to be written in a formal way.\n",
        "\n",
        "IDC organizes all of the metadata into large tables, where each row corresponds to one image file (as of IDC data release v12, we index ~42 millions of files) and each column represents a metadata attribute present in one or more files in IDC (currently, we index hundreds of such attributes). \n",
        "\n",
        "IDC metadata tables are maintained in [GCP BigQuery](https://cloud.google.com/bigquery),  with only a tiny subset of the attributes indexed in the catalog available via the [IDC Portal exploration page](https://imaging.datacommons.cancer.gov/explore/). IDC metadata can be queried using Standard Query Language (SQL), and does not require learning any IDC-specific API. \n",
        "\n",
        "In the following steps of the tutorial we will use just a few of the attributes (SQL table columns) to get started. You will be able to use the same principles and SQL queries to extend your search criteria to include any of the other attributes indexed by IDC."
      ]
    },
    {
      "cell_type": "markdown",
      "metadata": {
        "id": "pYEiJZYy_oZW"
      },
      "source": [
        "## First query and BigQuery workspace\n",
        "\n",
        "To get started, let's build the queries that replicate some of the information about IDC data shown in the IDC Portal.\n",
        "\n",
        "As the very first query, let's get the list of all the image collections available in IDC. Here is that query:\n",
        "\n",
        "```sql\n",
        "SELECT \n",
        "  DISTINCT(collection_id) \n",
        "FROM \n",
        "  bigquery-public-data.idc_current.dicom_all\n",
        "```\n",
        "\n",
        "To run this query interactively, copy the query above to the clipboard, paste it into the Editor tab in the [BigQuery SQL workspace](https://console.cloud.google.com/bigquery), and hit the \"Run\" button. Within few moments you should be able to see the list of collections in IDC in the \"Query results\" section of the interface.\n",
        "\n",
        "![bq_run](https://www.dropbox.com/s/6ah98n6e9ik18if/bq_run.png?raw=1)\n",
        "\n",
        "Let's look into how this query works:\n",
        "* `SELECT` defines the list of columns that should be returned by the query,\n",
        "* `DISTINCT` indicates that we want to see the distinct values encountered in the selected column,\n",
        "* `FROM` defines which table should be queried.\n",
        "\n",
        "In this query we work with the [`dicom_all` table](https://console.cloud.google.com/bigquery?p=bigquery-public-data&d=idc_current&t=dicom_all&page=table), which contains the DICOM metadata extracted from IDC images along with collection-level metadata that does not originate from DICOM."
      ]
    },
    {
      "cell_type": "markdown",
      "metadata": {
        "id": "2oMfGeV2aKgH"
      },
      "source": [
        "## Organization of IDC metadata in BigQuery tables\n",
        "\n",
        "Let's take a moment to look into the table used in the `FROM` clause of our query: [`bigquery-public-data.idc_current.dicom_all`](https://console.cloud.google.com/bigquery?p=bigquery-public-data&d=idc_current&t=dicom_all&page=table).\n",
        "\n",
        "This name is like an address that allows to locate the specific table in BigQuery. This \"address\" consists of three components: <project_id>.<dataset_id>.<table_id>\n",
        "\n",
        "1. `bigquery-public-data` is the ID of a public GCP _project_ that is maintained by Google Public Datasets Program. IDC-curated BigQuery tables with the metadata about IDC images are included in this project.\n",
        "2. `idc_current`is a _dataset_ within the `bigquery-public-data` project. Think of BigQuery datasets as containers that are used to organize and control access to the tables within the project.\n",
        "3. `dicom_all` is one of the tables within the `idc_current` dataset. As you spend more time learning about IDC, you will hopefully leverage other tables available in that dataset.\n",
        "\n",
        "If you now look back at the [BigQuery console](https://console.cloud.google.com/bigquery) and expand the list of datasets under the `bigquery-public-data` project, you will see that in addition to the `idc_current` dataset there are also datasets `idc_v12`, `idc_v11`, etc all the way to `idc_v1`. Those datasets correspond to the IDC data release versions, with `idc_current` being an alias for the latest (at the moment, v12) version of IDC data. \n",
        "\n",
        "We will not spend time discussing how IDC versioning works, but it is important to know that \n",
        "\n",
        "1. IDC data is versioned;\n",
        "2. queries against the `idc_current` dataset are equivalent to the queries against the latest version (currently, `idc_v12`) of IDC data;\n",
        "3. if you want the results of the queries to be persistent, write those against `idc_v*` datasets instead of `idc_current`."
      ]
    },
    {
      "cell_type": "markdown",
      "metadata": {
        "id": "9gE4aq0NLizR"
      },
      "source": [
        "## Same query using Python SDK\n",
        "\n",
        "BigQuery SQL workspace is a very convenient tool for exploring schemas of the tables, experimenting with writing and debugging queries, profiling their execution. But you can also run those queries programmatically, which is very convenient if you want to direct the result the query into a pandas dataframe, or just perform your searches programmatically.\n",
        "\n",
        "BigQuery API support is implemented in a variety of languages, with the python bindings available in the `google-cloud-bigquery` package. Conveniently, this package is pre-installed in Colab!\n",
        "\n",
        "**HINT**: SQL query syntax is not sensitive to indentation or capitalization - although those are quite helpful to make the query more readable!"
      ]
    },
    {
      "cell_type": "code",
      "execution_count": null,
      "metadata": {
        "id": "hfoS7obINKO7"
      },
      "outputs": [],
      "source": [
        "from google.cloud import bigquery\n",
        "\n",
        "# BigQuery client is initialized with the ID of the project\n",
        "# we specified in the beginning of the notebook!\n",
        "bq_client = bigquery.Client(my_ProjectID)\n",
        "\n",
        "selection_query = \"\"\"\n",
        "SELECT \n",
        "  DISTINCT(collection_id) \n",
        "FROM \n",
        "  bigquery-public-data.idc_current.dicom_all\n",
        "\"\"\"\n",
        "\n",
        "selection_result = bq_client.query(selection_query)\n",
        "selection_df = selection_result.result().to_dataframe()\n",
        "\n",
        "selection_df"
      ]
    },
    {
      "cell_type": "markdown",
      "metadata": {
        "id": "7ofFg6oaNpHw"
      },
      "source": [
        "## Exploring other IDC portal attributes via SQL\n",
        "\n",
        "Next we will explore few other attributes that are available in the [IDC portal](https://imaging.datacommons.cancer.gov/) (with the few exceptions, the mapping is pretty intuitive):\n",
        "\n",
        "![portal_filters](https://www.dropbox.com/s/qt3dhzara1ap7s3/portal_filters.png?raw=1)\n",
        "\n",
        "* \"Primary site location\" maps to the `tcia_tumorLocation` column\n",
        "* \"Body Part Examined\" -> `BodyPartExamined`\n",
        "* \"Modality\" -> `Modality`\n",
        "\n"
      ]
    },
    {
      "cell_type": "markdown",
      "metadata": {
        "id": "3kkHUgqaP2tl"
      },
      "source": [
        "### Exercise 1: Write the query to list all values for `tcia_tumorLocation`\n",
        "\n",
        "In the cell below, we pre-filled the code by copying the previous cell. All you need to do is write the query!\n",
        "\n",
        "As always, you can use the the Editor tab in the [BigQuery SQL workspace](https://console.cloud.google.com/bigquery) to experiment and debug the query if you prefer!"
      ]
    },
    {
      "cell_type": "code",
      "execution_count": null,
      "metadata": {
        "id": "5w9956q-P1YS"
      },
      "outputs": [],
      "source": [
        "from google.cloud import bigquery\n",
        "\n",
        "# BigQuery client is initialized with the ID of the project\n",
        "# we specified in the beginning of the notebook!\n",
        "bq_client = bigquery.Client(my_ProjectID)\n",
        "\n",
        "# Execution of this cell will fail unless you wrote the query below!\n",
        "selection_query = \"\"\"\n",
        "REPLACE THIS TEXT WITH YOUR QUERY!\n",
        "\"\"\"\n",
        "\n",
        "selection_result = bq_client.query(selection_query)\n",
        "selection_df = selection_result.result().to_dataframe()\n",
        "\n",
        "selection_df"
      ]
    },
    {
      "cell_type": "markdown",
      "metadata": {
        "id": "h9kC-9AAQkun"
      },
      "source": [
        "## Combining multiple attributes in a single query\n",
        "\n",
        "With the understanding of the attributes that are available in IDC, you can use SQL to build queries that summarize those attributes to better understand the data.\n",
        "\n",
        "In the following, we use the earlier discussed attributes to list distinct values encountered for tumor locations, body parts examined and modalities for the individual collections. We will also use the attribute that captures the species covered by the collection."
      ]
    },
    {
      "cell_type": "code",
      "execution_count": null,
      "metadata": {
        "id": "8JLNMCp6XUqX"
      },
      "outputs": [],
      "source": [
        "from google.cloud import bigquery\n",
        "\n",
        "# BigQuery client is initialized with the ID of the project\n",
        "# we specified in the beginning of the notebook!\n",
        "bq_client = bigquery.Client(my_ProjectID)\n",
        "\n",
        "selection_query = \"\"\"\n",
        "SELECT\n",
        "  collection_id,\n",
        "  STRING_AGG(DISTINCT(Modality)) as modalities,\n",
        "  STRING_AGG(DISTINCT(tcia_tumorLocation)) as tumor_locations,\n",
        "  STRING_AGG(DISTINCT(tcia_species)) as species\n",
        "FROM\n",
        "  bigquery-public-data.idc_current.dicom_all\n",
        "GROUP BY\n",
        "  collection_id\n",
        "\"\"\"\n",
        "\n",
        "selection_result = bq_client.query(selection_query)\n",
        "selection_df = selection_result.result().to_dataframe()\n",
        "\n",
        "selection_df"
      ]
    },
    {
      "cell_type": "markdown",
      "metadata": {
        "id": "MO4Q2yGaZb-z"
      },
      "source": [
        "In the query above, we use the familiar operators `SELECT` and `FROM`, but also couple of new ones:\n",
        "\n",
        "* `GROUP BY` in the end of the query indicates that we want to get a single row per the distinct value of the `collection_id`\n",
        "* `STRING_AGG` and `DISTINCT` indicate how the values of the selected columns should be aggregated while combining into single row per `collection_id`: we take all the distinct values per individual `collection_id`, and the concatenate them into a single string\n",
        "\n"
      ]
    },
    {
      "cell_type": "markdown",
      "metadata": {
        "id": "p3Thd5reazOw"
      },
      "source": [
        "### Exercise 2: Use multiple criteria to select image collections of interest\n",
        "\n",
        "In the previous query we learned how to get collection-level list of the modalities and tumor locations. In this exercise you task is to write a query that identifies all of the collections that include MR modality and \"Lung\" as a tumor location.\n",
        "\n",
        "As always, you can use the the Editor tab in the [BigQuery SQL workspace](https://console.cloud.google.com/bigquery) to experiment and debug the query if you prefer!"
      ]
    },
    {
      "cell_type": "code",
      "execution_count": null,
      "metadata": {
        "id": "kg9gKhfzbcmR"
      },
      "outputs": [],
      "source": [
        "from google.cloud import bigquery\n",
        "\n",
        "# BigQuery client is initialized with the ID of the project\n",
        "# we specified in the beginning of the notebook!\n",
        "bq_client = bigquery.Client(my_ProjectID)\n",
        "\n",
        "# Execution of this cell will fail unless you wrote the query below!\n",
        "selection_query = \"\"\"\n",
        "SELECT \n",
        "  DISTINCT(collection_id)\n",
        "FROM\n",
        "  bigquery-public-data.idc_current.dicom_all\n",
        "WHERE\n",
        "  # write the selection criteria under this line!\n",
        "  # Use AND operator to combine the filter values for the\n",
        "  # Modality and tcia_tumorLocation to select collections that\n",
        "  # include MR images for Lung cancer locations\n",
        "\"\"\"\n",
        "\n",
        "selection_result = bq_client.query(selection_query)\n",
        "selection_df = selection_result.result().to_dataframe()\n",
        "\n",
        "selection_df"
      ]
    },
    {
      "cell_type": "markdown",
      "metadata": {
        "id": "Y53cny6PcAa4"
      },
      "source": [
        "## DICOM data model: Patients, studies, series and instances\n",
        "\n",
        "Up to now we searched the data at the granularity of the collections. In practice, we often want to know how many patients meet our search criteria, or what are the specific images that we need to download. \n",
        "\n",
        "IDC is using DICOM for data representation, and in the DICOM data model, patients (identified by `PatientID`) undergo imaging exams (or _studies_, in DICOM nomenclature). \n",
        "\n",
        "Each patient will have one or more studies, with each study identified uniquely by the attribute `StudyInstanceUID`. During each of the imaging studies one or more imaging _series_ will be collected. As an example, a Computed Tomography (CT) imaging study may include a volume sweep before and after administration of the contrast agent. Imaging series are uniqiely identified by `SeriesInstanceUID`. \n",
        "\n",
        "Finally, each imaging series contains one or more _instances_, where each instance corresponds to a file. Most often, one instance corresponds to a single slice from a cross-sectional image. Individual instances are identified by unique `SOPInstanceUID` values.\n",
        "\n",
        "The figure below, borrowed from the DICOM standard [here](http://dicom.nema.org/medical/dicom/current/output/chtml/part03/chapter_7.html), captures the discussed data model.\n",
        "\n",
        "![DICOM data model](https://2103490465-files.gitbook.io/~/files/v0/b/gitbook-x-prod.appspot.com/o/spaces%2F-MCTG4fXybYgGMalZnmf-2668963341%2Fuploads%2Fgit-blob-0f639d56e22ae53a03c2ca59c96306c5db51b158%2FPS3.3_7-1a-DICOM_model.png?alt=media)\n",
        "\n",
        "Let's go over some examples of how those concepts can help us navigate data in IDC. Here is how we would count all the patients that have MR (Magnetic Resonance) images:"
      ]
    },
    {
      "cell_type": "code",
      "execution_count": null,
      "metadata": {
        "id": "5_Z8vRoyRcl6"
      },
      "outputs": [],
      "source": [
        "from google.cloud import bigquery\n",
        "\n",
        "# BigQuery client is initialized with the ID of the project\n",
        "# we specified in the beginning of the notebook!\n",
        "bq_client = bigquery.Client(my_ProjectID)\n",
        "\n",
        "# Execution of this cell will fail unless you wrote the query below!\n",
        "selection_query = \"\"\"\n",
        "SELECT \n",
        "  COUNT(DISTINCT(PatientID)) as patient_cnt\n",
        "FROM\n",
        "  bigquery-public-data.idc_current.dicom_all\n",
        "WHERE\n",
        "  Modality = \"MR\"\n",
        "\"\"\"\n",
        "\n",
        "selection_result = bq_client.query(selection_query)\n",
        "selection_df = selection_result.result().to_dataframe()\n",
        "\n",
        "selection_df"
      ]
    },
    {
      "cell_type": "markdown",
      "metadata": {
        "id": "r9JsFvdR8OUv"
      },
      "source": [
        "### Exercise 3: Learn more about the size of the collections in IDC\n",
        "\n",
        "In this exercise your task is to expand on the query we wrote earlier to calculate additional characteristics of the collections by counting the number of distinct values of `PatientID`, `StudyInstanceUID`, `SeriesInstanceUID` and `SOPInstanceUID` in each of the collections.\n",
        "\n",
        "As always, you can use the the Editor tab in the [BigQuery SQL workspace](https://console.cloud.google.com/bigquery) to experiment and debug the query if you prefer!"
      ]
    },
    {
      "cell_type": "code",
      "execution_count": null,
      "metadata": {
        "id": "OZfB1qDgSKNU"
      },
      "outputs": [],
      "source": [
        "from google.cloud import bigquery\n",
        "\n",
        "# BigQuery client is initialized with the ID of the project\n",
        "# we specified in the beginning of the notebook!\n",
        "bq_client = bigquery.Client(my_ProjectID)\n",
        "\n",
        "# Execution of this cell will fail unless you wrote the query below!\n",
        "selection_query = \"\"\"\n",
        "SELECT\n",
        "  collection_id,\n",
        "  STRING_AGG(DISTINCT(Modality)) as modalities,\n",
        "  STRING_AGG(DISTINCT(tcia_tumorLocation)) as tumor_locations,\n",
        "  STRING_AGG(DISTINCT(tcia_species)) as species\n",
        "  # count number of distinct patients\n",
        "  # count number of distinct studies\n",
        "  # count number of distinct series\n",
        "  # count number of distinct instances\n",
        "FROM\n",
        "  bigquery-public-data.idc_current.dicom_all\n",
        "GROUP BY\n",
        "  collection_id\n",
        "\"\"\"\n",
        "\n",
        "selection_result = bq_client.query(selection_query)\n",
        "selection_df = selection_result.result().to_dataframe()\n",
        "\n",
        "selection_df"
      ]
    },
    {
      "cell_type": "markdown",
      "metadata": {
        "id": "xogRaN9RSJnq"
      },
      "source": [
        "# Selecting series of specific type\n",
        "\n",
        "In many cases, image analysis is done at the granularity of the individual DICOM series. In some cases DICOM series corresponds to a single instance (e.g., for X-ray modalities), but in most cases imaging modalities are cross-sectional, containing multiple slices, with each slice stored in a separate instance (file), which can be reconstructed into a 3D volume.\n",
        "\n",
        "From the examples and queries above, you should have developed some understanding about the modalities and few other collection-level characteristics for the data included in IDC. As an example, we know that IDC data contains MR images of Liver. \n",
        "\n",
        "In the following query we select the UID of a sample MR series from the images covering Liver cancer."
      ]
    },
    {
      "cell_type": "code",
      "execution_count": null,
      "metadata": {
        "id": "RAbOS0x9dfOe"
      },
      "outputs": [],
      "source": [
        "from google.cloud import bigquery\n",
        "\n",
        "# BigQuery client is initialized with the ID of the project\n",
        "# we specified in the beginning of the notebook!\n",
        "bq_client = bigquery.Client(my_ProjectID)\n",
        "\n",
        "selection_query = \"\"\"\n",
        "SELECT\n",
        "  SeriesInstanceUID,\n",
        "  collection_id\n",
        "FROM\n",
        "  bigquery-public-data.idc_current.dicom_all\n",
        "WHERE\n",
        "  Modality = \"MR\" AND tcia_tumorLocation = \"Liver\"\n",
        "\n",
        "# note the use of this new operator that makes the query \n",
        "# return just the first one of the matching rows \n",
        "LIMIT\n",
        "  1\n",
        "\"\"\"\n",
        "\n",
        "selection_result = bq_client.query(selection_query)\n",
        "selection_df = selection_result.result().to_dataframe()\n",
        "\n",
        "selection_df"
      ]
    },
    {
      "cell_type": "markdown",
      "metadata": {
        "id": "ab2lCsz5dyxA"
      },
      "source": [
        "The result of this query is the _unique identifier_ for a DICOM series that meets the selection criteria. "
      ]
    },
    {
      "cell_type": "markdown",
      "metadata": {
        "id": "6yE502BaecuL"
      },
      "source": [
        "## Selecting studies that contain series of the specific type\n",
        "\n",
        "Another common use case for searching the data is identifying images that are accompanied by annotations of findings in those images. A significant portion of images in IDC has segementations of the structures of interest, which were created manually or using automated segmentation tools. Without going into details, such segmentations are stored in DICOM Segmentation (SEG modality) or Radiotherapy Structure Set (RTSS modality) objects.\n",
        "\n",
        "Segmentations for a given image series within a study will be stored in a separate series. We can select studies that contain both images and segmentations using the query below. To help better summarize the result, we will list all of the modalities encountered in the given study."
      ]
    },
    {
      "cell_type": "code",
      "execution_count": null,
      "metadata": {
        "id": "Dc_6GR1DfiZc"
      },
      "outputs": [],
      "source": [
        "from google.cloud import bigquery\n",
        "\n",
        "# BigQuery client is initialized with the ID of the project\n",
        "# we specified in the beginning of the notebook!\n",
        "bq_client = bigquery.Client(my_ProjectID)\n",
        "\n",
        "selection_query = \"\"\"\n",
        "WITH\n",
        "  temp_result AS (\n",
        "  SELECT\n",
        "    StudyInstanceUID,\n",
        "    STRING_AGG(DISTINCT(collection_id)) AS collection_id,\n",
        "    STRING_AGG(DISTINCT(tcia_tumorLocation)) AS tcia_tumorLocation,\n",
        "    ARRAY_AGG(DISTINCT(Modality)) AS modalities\n",
        "  FROM\n",
        "    bigquery-public-data.idc_current.dicom_all\n",
        "  GROUP BY\n",
        "    StudyInstanceUID)\n",
        "SELECT\n",
        "  StudyInstanceUID,\n",
        "  ARRAY_TO_STRING(modalities,\",\") AS modalities,\n",
        "  collection_id\n",
        "FROM\n",
        "  temp_result\n",
        "WHERE\n",
        "  \"CT\" IN UNNEST(modalities)\n",
        "  AND \"SEG\" IN UNNEST(modalities)\n",
        "  AND tcia_tumorLocation = \"Lung\"\n",
        "LIMIT\n",
        "  1\n",
        "\"\"\"\n",
        "\n",
        "selection_result = bq_client.query(selection_query)\n",
        "selection_df = selection_result.result().to_dataframe()\n",
        "\n",
        "selection_df"
      ]
    },
    {
      "cell_type": "markdown",
      "metadata": {
        "id": "5cbTYu-4hxH_"
      },
      "source": [
        "This query introduces a couple of more advanced concepts: \n",
        "* we use `WITH` operator to define an intermediate query that writes the result into `temp_result` table, which is then queried\n",
        "* we capture all of the distinct values of `Modality` into an _array_ `modalities`, since we want to check for presence of both MR and SEG modalities in the study.\n",
        "\n",
        "We will work with those advanced features more in the subsequent tutorials. For now, you can experiment with this query by adjusting the parameters to select studies that contain combinations of certain modalities (for example, are there imaging studies of liver cancer that contain either MR or CT images and segmentations?). This is probably the most challenging exercise from this tutorial - [BigQuery SQL workspace](https://console.cloud.google.com/bigquery) should be handy to work on it!"
      ]
    },
    {
      "cell_type": "markdown",
      "metadata": {
        "id": "pe1q7WLekEAS"
      },
      "source": [
        "## Summary\n",
        "\n",
        "After completing this tutorial, you hopefully:\n",
        "* developed basic understanding of the IDC image metadata and its organization\n",
        "* learned about BigQuery as the tool for searching IDC metadata\n",
        "* are motivated to start experimenting with the SQL interface to select subsets of IDC data at different levels of data model (collection, patient, study, series)\n",
        "\n",
        "If you have any questions about this tutorial, or about searching IDC metadata, please send us an email to support@canceridc.dev or posting your question on [IDC User forum](https://discourse.cancer.dev)!\n",
        "\n",
        "This tutorial barely scratches the surface of what you can do with BigQuery SQL. If you are interested in a comprehensive tutorial about BigQuery SQL, check out this [\"Intro to SQL\" course on Kaggle](https://www.kaggle.com/learn/intro-to-sql)!"
      ]
    },
    {
      "cell_type": "markdown",
      "metadata": {
        "id": "wd0NQt62SkC8"
      },
      "source": [
        "## Bonus\n",
        "\n",
        "Remember, we mentioned in the beginning that you could search for the following?\n",
        "\n",
        "* _\"files corresponding to CT images of female patients that are accompanied by annotations of lung tumors that are larger than 1500 mm^3 in volume\"_.\n",
        "\n",
        "Here's the query that does that!"
      ]
    },
    {
      "cell_type": "code",
      "execution_count": null,
      "metadata": {
        "id": "grIq1xKjpkEC"
      },
      "outputs": [],
      "source": [
        "from google.cloud import bigquery\n",
        "\n",
        "# BigQuery client is initialized with the ID of the project\n",
        "# we specified in the beginning of the notebook!\n",
        "bq_client = bigquery.Client(my_ProjectID)\n",
        "\n",
        "selection_query = \"\"\"\n",
        "  # _\"files corresponding to CT images of female patients that are accompanied by annotations of lung tumors that are larger than 10 ml in volume\"_.\n",
        "WITH\n",
        "\n",
        "  female_ct_studies AS (\n",
        "  SELECT\n",
        "    DISTINCT(StudyInstanceUID),\n",
        "    collection_id\n",
        "  FROM\n",
        "    bigquery-public-data.idc_current.dicom_all\n",
        "  WHERE\n",
        "    Modality = \"CT\"\n",
        "    AND PatientSex = \"F\" ),\n",
        "\n",
        "  nodules_larger_than AS (\n",
        "  SELECT\n",
        "    DISTINCT(SOPInstanceUID)\n",
        "  FROM\n",
        "    bigquery-public-data.idc_current.quantitative_measurements\n",
        "  WHERE\n",
        "    quantity.CodeMeaning = \"Volume\"\n",
        "    AND value > 1500\n",
        "    AND units.CodeMeaning = \"cubic millimeter\"\n",
        "    AND finding.CodeMeaning = \"Nodule\" ),\n",
        "\n",
        "  studies_for_nodules AS (\n",
        "  SELECT\n",
        "    StudyInstanceUID,\n",
        "    collection_id\n",
        "  FROM\n",
        "    bigquery-public-data.idc_current.dicom_all AS dicom_all\n",
        "  JOIN\n",
        "    nodules_larger_than\n",
        "  ON\n",
        "    dicom_all.SOPInstanceUID = nodules_larger_than.SOPInstanceUID )\n",
        "\n",
        "SELECT\n",
        "  studies_for_nodules.StudyInstanceUID,\n",
        "  studies_for_nodules.collection_id\n",
        "FROM\n",
        "  studies_for_nodules\n",
        "JOIN\n",
        "  female_ct_studies\n",
        "ON\n",
        "  studies_for_nodules.StudyInstanceUID = female_ct_studies.StudyInstanceUID\n",
        "\"\"\"\n",
        "\n",
        "selection_result = bq_client.query(selection_query)\n",
        "selection_df = selection_result.result().to_dataframe()\n",
        "\n",
        "selection_df"
      ]
    },
    {
      "cell_type": "markdown",
      "metadata": {
        "id": "azBi1tO1aKgS"
      },
      "source": [
        "## Support\n",
        "\n",
        "You can contact IDC support by sending email to support@canceridc.dev or posting your question on [IDC User forum](https://discourse.canceridc.dev)."
      ]
    },
    {
      "cell_type": "markdown",
      "metadata": {
        "id": "It9Md7yzwTn4"
      },
      "source": [
        "## Acknowledgments\n",
        "\n",
        "Imaging Data Commons has been funded in whole or in part with Federal funds from the National Cancer Institute, National Institutes of Health, under Task Order No. HHSN26110071 under Contract No. HHSN261201500003l.\n",
        "\n",
        "If you use IDC in your research, please cite the following publication:\n",
        "\n",
        "> Fedorov, A., Longabaugh, W. J. R., Pot, D., Clunie, D. A., Pieper, S., Aerts, H. J. W. L., Homeyer, A., Lewis, R., Akbarzadeh, A., Bontempi, D., Clifford, W., Herrmann, M. D., Höfener, H., Octaviano, I., Osborne, C., Paquette, S., Petts, J., Punzo, D., Reyes, M., Schacherer, D. P., Tian, M., White, G., Ziegler, E., Shmulevich, I., Pihl, T., Wagner, U., Farahani, K. & Kikinis, R. NCI Imaging Data Commons. Cancer Res. 81, 4188–4193 (2021). http://dx.doi.org/10.1158/0008-5472.CAN-21-0950"
      ]
    }
  ],
  "metadata": {
    "colab": {
      "provenance": [],
      "toc_visible": true,
      "include_colab_link": true
    },
    "gpuClass": "standard",
    "kernelspec": {
      "display_name": "Python 3",
      "name": "python3"
    },
    "language_info": {
      "name": "python"
    },
    "orig_nbformat": 4
  },
  "nbformat": 4,
  "nbformat_minor": 0
}